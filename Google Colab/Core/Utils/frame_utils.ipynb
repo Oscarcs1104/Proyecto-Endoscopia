{
 "cells": [
  {
   "cell_type": "code",
   "execution_count": null,
   "id": "856510b4",
   "metadata": {
    "vscode": {
     "languageId": "plaintext"
    }
   },
   "outputs": [],
   "source": [
    "import os\n",
    "from PIL import Image\n",
    "import torch\n",
    "import torchvision.transforms.functional as TF\n",
    "\n",
    "def read_image(image_path):\n",
    "    \"\"\"Reads an image from the given path and returns a PIL Image.\"\"\"\n",
    "    return Image.open(image_path).convert(\"RGB\")\n",
    "\n",
    "def get_scared_file_pairs(root_path):\n",
    "    \"\"\"\n",
    "    Gets all the data, the right and left image from all dataset. the drive\n",
    "    \"\"\"\n",
    "    left_images = []\n",
    "    right_images = []\n",
    "\n",
    "    for dataset_folder in sorted(os.listdir(root_path)):\n",
    "        print(dataset_folder)\n",
    "        dataset_path = os.path.join(root_path, dataset_folder)\n",
    "        print(dataset_path)\n",
    "        if not os.path.isdir(dataset_path):\n",
    "          print('Not found')\n",
    "          continue\n",
    "        for keyframe_folder in sorted(os.listdir(dataset_path)):\n",
    "            print(\"keyframe \" +keyframe_folder)\n",
    "            keyframe_path = os.path.join(dataset_path, keyframe_folder, 'rectified_video_frame')\n",
    "            print(keyframe_path)\n",
    "            if not os.path.isdir(keyframe_path):\n",
    "              print('Not found')\n",
    "              continue\n",
    "\n",
    "            left_dir = os.path.join(keyframe_path, 'left')\n",
    "            right_dir = os.path.join(keyframe_path, 'right')\n",
    "            print(left_dir)\n",
    "\n",
    "            for filename in sorted(os.listdir(left_dir)):\n",
    "                  left_path = os.path.join(left_dir, filename)\n",
    "                  left_images.append(left_path)\n",
    "            for filename in sorted(os.listdir(right_dir)):\n",
    "                  right_path = os.path.join(right_dir, filename)\n",
    "                  right_images.append(right_path)\n",
    "\n",
    "    return left_images, right_images"
   ]
  }
 ],
 "metadata": {
  "language_info": {
   "name": "python"
  }
 },
 "nbformat": 4,
 "nbformat_minor": 5
}
